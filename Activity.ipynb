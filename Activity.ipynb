{
 "cells": [
  {
   "cell_type": "markdown",
   "metadata": {},
   "source": [
    "# Base Code"
   ]
  },
  {
   "cell_type": "code",
   "execution_count": 1,
   "metadata": {},
   "outputs": [
    {
     "name": "stdout",
     "output_type": "stream",
     "text": [
      "\n",
      "Library Management System\n",
      "1. Add Book\n",
      "2. Remove Book\n",
      "3. List Books\n",
      "4. Exit\n"
     ]
    }
   ],
   "source": [
    "class Book:\n",
    "    def __init__(self, title, author, isbn):\n",
    "        self.title = title\n",
    "        self.author = author\n",
    "        self.isbn = isbn\n",
    "\n",
    "    def __str__(self):\n",
    "        return f\"'{self.title}' by {self.author} (ISBN: {self.isbn})\"\n",
    "\n",
    "class Library:\n",
    "    def __init__(self):\n",
    "        self.books = []\n",
    "\n",
    "    def add_book(self, book):\n",
    "        self.books.append(book)\n",
    "\n",
    "    def remove_book(self, title):\n",
    "        self.books = [book for book in self.books if book.title != title]\n",
    "\n",
    "    def list_books(self):\n",
    "        for book in self.books:\n",
    "            print(book)\n",
    "\n",
    "# Menu-driven interaction\n",
    "my_library = Library()\n",
    "\n",
    "while True:\n",
    "    print(\"\\nLibrary Management System\")\n",
    "    print(\"1. Add Book\")\n",
    "    print(\"2. Remove Book\")\n",
    "    print(\"3. List Books\")\n",
    "    print(\"4. Exit\")\n",
    "\n",
    "    choice = input(\"Enter your choice: \")\n",
    "\n",
    "    if choice == '1':\n",
    "        title = input(\"Enter book title: \")\n",
    "        author = input(\"Enter author name: \")\n",
    "        isbn = input(\"Enter ISBN: \")\n",
    "        book = Book(title, author, isbn)\n",
    "        my_library.add_book(book)\n",
    "        print(\"Book added successfully!\")\n",
    "\n",
    "    elif choice == '2':\n",
    "        title = input(\"Enter the title of the book to remove: \")\n",
    "        my_library.remove_book(title)\n",
    "        print(\"Book removed successfully!\")\n",
    "\n",
    "    elif choice == '3':\n",
    "        print(\"\\nBooks in Library:\")\n",
    "        my_library.list_books()\n",
    "\n",
    "    elif choice == '4':\n",
    "        print(\"Exiting program...\")\n",
    "        break\n",
    "    else:\n",
    "        print(\"Invalid choice, please try again.\")\n"
   ]
  },
  {
   "cell_type": "markdown",
   "metadata": {},
   "source": [
    "# Challenge"
   ]
  },
  {
   "cell_type": "code",
   "execution_count": 1,
   "metadata": {},
   "outputs": [],
   "source": [
    "# To integrate DigitalBook into the existing system:\n",
    "# 1. Modify the 'add book' option in the menu to ask if the book is digital.\n",
    "# 2. If it is a digital book, gather additional details like file size and download link, and create a DigitalBook instance.\n",
    "# 3. Add this DigitalBook instance to the library in the same way as a regular book."
   ]
  }
 ],
 "metadata": {
  "kernelspec": {
   "display_name": "Python 3",
   "language": "python",
   "name": "python3"
  },
  "language_info": {
   "codemirror_mode": {
    "name": "ipython",
    "version": 3
   },
   "file_extension": ".py",
   "mimetype": "text/x-python",
   "name": "python",
   "nbconvert_exporter": "python",
   "pygments_lexer": "ipython3",
   "version": "3.11.6"
  }
 },
 "nbformat": 4,
 "nbformat_minor": 2
}
