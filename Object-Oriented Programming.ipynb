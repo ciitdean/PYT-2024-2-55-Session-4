{
 "cells": [
  {
   "cell_type": "markdown",
   "metadata": {},
   "source": [
    "# Objects"
   ]
  },
  {
   "cell_type": "code",
   "execution_count": 1,
   "metadata": {},
   "outputs": [
    {
     "name": "stdout",
     "output_type": "stream",
     "text": [
      "<class 'int'>\n",
      "<class 'str'>\n"
     ]
    }
   ],
   "source": [
    "# Example demonstrating that every variable in Python is an object\n",
    "\n",
    "# Integer variable\n",
    "my_int = 5\n",
    "print(type(my_int))  # Output: <class 'int'>\n",
    "\n",
    "# String variable\n",
    "my_str = \"Hello, World!\"\n",
    "print(type(my_str))  # Output: <class 'str'>\n",
    "\n"
   ]
  },
  {
   "cell_type": "code",
   "execution_count": 2,
   "metadata": {},
   "outputs": [
    {
     "name": "stdout",
     "output_type": "stream",
     "text": [
      "<class 'list'>\n"
     ]
    }
   ],
   "source": [
    "# List variable\n",
    "my_list = [1, 2, 3]\n",
    "print(type(my_list))  # Output: <class 'list'>"
   ]
  },
  {
   "cell_type": "code",
   "execution_count": 3,
   "metadata": {},
   "outputs": [
    {
     "name": "stdout",
     "output_type": "stream",
     "text": [
      "<class 'function'>\n"
     ]
    }
   ],
   "source": [
    "# Function definition\n",
    "def my_function():\n",
    "    return \"Hello from a function\"\n",
    "\n",
    "# Function is also an object\n",
    "print(type(my_function))  # Output: <class 'function'>"
   ]
  },
  {
   "cell_type": "code",
   "execution_count": 4,
   "metadata": {},
   "outputs": [
    {
     "name": "stdout",
     "output_type": "stream",
     "text": [
      "<class '__main__.MyClass'>\n"
     ]
    }
   ],
   "source": [
    "# Creating a custom class\n",
    "class MyClass:\n",
    "    def __init__(self):\n",
    "        self.attribute = \"I am an attribute\"\n",
    "\n",
    "# Creating an instance of MyClass\n",
    "my_object = MyClass()\n",
    "print(type(my_object))  # Output: <class '__main__.MyClass'>"
   ]
  },
  {
   "cell_type": "markdown",
   "metadata": {},
   "source": [
    "# Classes"
   ]
  },
  {
   "cell_type": "code",
   "execution_count": 5,
   "metadata": {},
   "outputs": [
    {
     "name": "stdout",
     "output_type": "stream",
     "text": [
      "My dog's name is Buddy and it is 3 years old.\n",
      "Bark!\n"
     ]
    }
   ],
   "source": [
    "# Example: Creating a Dog class in Python\n",
    "\n",
    "class Dog:\n",
    "    # Initializer / Instance attributes\n",
    "    def __init__(self, name, age):\n",
    "        self.name = name\n",
    "        self.age = age\n",
    "\n",
    "    # Instance method\n",
    "    def bark(self):\n",
    "        print(\"Bark!\")\n",
    "\n",
    "# Creating instances of the Dog class\n",
    "my_dog = Dog(name=\"Buddy\", age=3)\n",
    "\n",
    "# Accessing attributes\n",
    "print(f\"My dog's name is {my_dog.name} and it is {my_dog.age} years old.\")\n",
    "\n",
    "# Calling methods\n",
    "my_dog.bark()  # Output: Bark!"
   ]
  },
  {
   "cell_type": "markdown",
   "metadata": {},
   "source": [
    "# Class Basic Syntax"
   ]
  },
  {
   "cell_type": "code",
   "execution_count": null,
   "metadata": {},
   "outputs": [],
   "source": [
    "class ClassName:\n",
    "    # Class attributes\n",
    "    attribute = value\n",
    "\n",
    "    # Initializer (constructor)\n",
    "    def __init__(self, parameter1, parameter2):\n",
    "        # Instance attributes\n",
    "        self.parameter1 = parameter1\n",
    "        self.parameter2 = parameter2\n",
    "\n",
    "    # Method\n",
    "    def method_name(self, argument):\n",
    "        # Method body\n",
    "        # 'self' refers to the instance calling the method\n",
    "        # Code to execute when method is called"
   ]
  },
  {
   "cell_type": "code",
   "execution_count": 6,
   "metadata": {},
   "outputs": [],
   "source": [
    "class House:\n",
    "    pass"
   ]
  },
  {
   "cell_type": "code",
   "execution_count": 7,
   "metadata": {},
   "outputs": [],
   "source": [
    "class House:\n",
    "    roof_type = \"Gabled\""
   ]
  },
  {
   "cell_type": "code",
   "execution_count": 8,
   "metadata": {},
   "outputs": [],
   "source": [
    "class House:\n",
    "    def __init__(self, color, windows):\n",
    "        self.color = color\n",
    "        self.windows = windows"
   ]
  },
  {
   "cell_type": "code",
   "execution_count": 9,
   "metadata": {},
   "outputs": [],
   "source": [
    "class House:\n",
    "    def open_door(self):\n",
    "        print(\"Door opened\")"
   ]
  },
  {
   "cell_type": "markdown",
   "metadata": {},
   "source": [
    "## Class Example: Course Class"
   ]
  },
  {
   "cell_type": "code",
   "execution_count": 10,
   "metadata": {},
   "outputs": [
    {
     "name": "stdout",
     "output_type": "stream",
     "text": [
      "Alice has been enrolled in Mathematics\n",
      "Bob has been enrolled in Mathematics\n",
      "Enrollment failed: Mathematics class is full.\n",
      "Total students enrolled in Mathematics: 2\n",
      "Average grade for Mathematics class: 90.16666666666667\n"
     ]
    }
   ],
   "source": [
    "class Course:\n",
    "    def __init__(self, subject, max_students):\n",
    "        self.subject = subject\n",
    "        self.max_students = max_students\n",
    "        self.enrolled_students = []\n",
    "\n",
    "    def enroll_student(self, student):\n",
    "        if len(self.enrolled_students) < self.max_students:\n",
    "            self.enrolled_students.append(student)\n",
    "            print(f\"{student.name} has been enrolled in {self.subject}\")\n",
    "        else:\n",
    "            print(f\"Enrollment failed: {self.subject} class is full.\")\n",
    "\n",
    "    def get_enrollment_count(self):\n",
    "        return len(self.enrolled_students)\n",
    "\n",
    "    def get_class_average_grade(self):\n",
    "        if not self.enrolled_students:\n",
    "            return 0\n",
    "        total = sum(student.get_average_grade() for student in self.enrolled_students)\n",
    "        return total / len(self.enrolled_students)\n",
    "\n",
    "class Student:\n",
    "    def __init__(self, name, grades=None):\n",
    "        self.name = name\n",
    "        self.grades = grades or []\n",
    "\n",
    "    def add_grade(self, grade):\n",
    "        self.grades.append(grade)\n",
    "\n",
    "    def get_average_grade(self):\n",
    "        if not self.grades:\n",
    "            return 0\n",
    "        return sum(self.grades) / len(self.grades)\n",
    "\n",
    "# Creating instances of classes\n",
    "math_course = Course(\"Mathematics\", 2)\n",
    "student_1 = Student(\"Alice\", [90, 95, 93])\n",
    "student_2 = Student(\"Bob\", [85, 88, 90])\n",
    "student_3 = Student(\"Charlie\", [92, 91, 89])\n",
    "\n",
    "# Enrolling students in the course\n",
    "math_course.enroll_student(student_1)\n",
    "math_course.enroll_student(student_2)\n",
    "math_course.enroll_student(student_3)  # This enrollment should fail due to full capacity\n",
    "\n",
    "# Displaying information\n",
    "print(f\"Total students enrolled in {math_course.subject}: {math_course.get_enrollment_count()}\")\n",
    "print(f\"Average grade for {math_course.subject} class: {math_course.get_class_average_grade()}\")\n"
   ]
  },
  {
   "cell_type": "markdown",
   "metadata": {},
   "source": [
    "# Inheritance"
   ]
  },
  {
   "cell_type": "code",
   "execution_count": 11,
   "metadata": {},
   "outputs": [
    {
     "name": "stdout",
     "output_type": "stream",
     "text": [
      "Buddy says Woof!\n",
      "Whiskers says Meow!\n"
     ]
    }
   ],
   "source": [
    "# Base class\n",
    "class Animal:\n",
    "    def __init__(self, name):\n",
    "        self.name = name\n",
    "\n",
    "    def speak(self):\n",
    "        raise NotImplementedError(\"Subclass must implement abstract method\")\n",
    "\n",
    "# Derived class: Dog\n",
    "class Dog(Animal):\n",
    "    def speak(self):\n",
    "        return f\"{self.name} says Woof!\"\n",
    "\n",
    "# Another derived class: Cat\n",
    "class Cat(Animal):\n",
    "    def speak(self):\n",
    "        return f\"{self.name} says Meow!\"\n",
    "\n",
    "# Using the classes\n",
    "my_dog = Dog(\"Buddy\")\n",
    "my_cat = Cat(\"Whiskers\")\n",
    "\n",
    "print(my_dog.speak())  # Output: Buddy says Woof!\n",
    "print(my_cat.speak())  # Output: Whiskers says Meow!\n",
    "\n",
    "# Explanation: Both Dog and Cat classes inherit from Animal and implement their own \n",
    "# version of the speak method. This demonstrates how inheritance allows for code reusability \n",
    "# while also enabling customization for different subclasses.\n"
   ]
  },
  {
   "cell_type": "markdown",
   "metadata": {},
   "source": [
    "# Encapsulation"
   ]
  },
  {
   "cell_type": "code",
   "execution_count": 12,
   "metadata": {},
   "outputs": [
    {
     "name": "stdout",
     "output_type": "stream",
     "text": [
      "Accessing public attribute: 12345\n",
      "Error: 'BankAccount' object has no attribute '_ExternalEntity__balance'\n"
     ]
    }
   ],
   "source": [
    "class BankAccount:\n",
    "    def __init__(self, account_number, balance=0):\n",
    "        self.account_number = account_number  # Public attribute\n",
    "        self.__balance = balance  # Private attribute\n",
    "\n",
    "    def show_info(self):\n",
    "        return f\"Account Number: {self.account_number}, Balance: {self.__balance}\"\n",
    "\n",
    "# Creating a new class to attempt accessing BankAccount's attributes\n",
    "class ExternalEntity:\n",
    "    def __init__(self, bank_account):\n",
    "        self.bank_account = bank_account\n",
    "\n",
    "    def attempt_access(self):\n",
    "        try:\n",
    "            # Attempt to access public attribute\n",
    "            print(f\"Accessing public attribute: {self.bank_account.account_number}\")\n",
    "\n",
    "            # Attempt to access private attribute\n",
    "            print(f\"Accessing private attribute: {self.bank_account.__balance}\")\n",
    "        except AttributeError as e:\n",
    "            print(f\"Error: {e}\")\n",
    "\n",
    "# Using the classes\n",
    "account = BankAccount(\"12345\", 100)\n",
    "entity = ExternalEntity(account)\n",
    "entity.attempt_access()\n",
    "\n",
    "# Explanation: The ExternalEntity class tries to access both the public and private attributes of the BankAccount.\n",
    "# The public attribute is easily accessed, while the private attribute raises an AttributeError."
   ]
  },
  {
   "cell_type": "markdown",
   "metadata": {},
   "source": [
    "# Polymorphism"
   ]
  },
  {
   "cell_type": "code",
   "execution_count": 13,
   "metadata": {},
   "outputs": [
    {
     "name": "stdout",
     "output_type": "stream",
     "text": [
      "Drawing a circle\n",
      "Drawing a rectangle\n",
      "Drawing a triangle\n"
     ]
    }
   ],
   "source": [
    "# Base class\n",
    "class Shape:\n",
    "    def draw(self):\n",
    "        raise NotImplementedError\n",
    "\n",
    "# Derived classes\n",
    "class Circle(Shape):\n",
    "    def draw(self):\n",
    "        return \"Drawing a circle\"\n",
    "\n",
    "class Rectangle(Shape):\n",
    "    def draw(self):\n",
    "        return \"Drawing a rectangle\"\n",
    "\n",
    "class Triangle(Shape):\n",
    "    def draw(self):\n",
    "        return \"Drawing a triangle\"\n",
    "\n",
    "# Function to draw multiple shapes\n",
    "def draw_shapes(shapes):\n",
    "    for shape in shapes:\n",
    "        print(shape.draw())\n",
    "\n",
    "# Using polymorphism\n",
    "shapes = [Circle(), Rectangle(), Triangle()]\n",
    "draw_shapes(shapes)  # Polymorphically draws different shapes\n",
    "\n",
    "# Explanation: \n",
    "# - Each shape (Circle, Rectangle, Triangle) has its own implementation of the draw method.\n",
    "# - The draw_shapes function takes a list of shapes and calls the draw method on each, \n",
    "#   demonstrating polymorphism. It doesn't need to know the type of shape in advance.\n"
   ]
  },
  {
   "cell_type": "code",
   "execution_count": 1,
   "metadata": {},
   "outputs": [
    {
     "name": "stdout",
     "output_type": "stream",
     "text": [
      "Error: Draw method not implemented\n"
     ]
    }
   ],
   "source": [
    "# Base class\n",
    "class Shape:\n",
    "    def draw(self):\n",
    "        raise NotImplementedError(\"Draw method not implemented\")\n",
    "\n",
    "# Trying to use the Shape class directly\n",
    "shape = Shape()\n",
    "\n",
    "try:\n",
    "    shape.draw()\n",
    "except NotImplementedError as e:\n",
    "    print(f\"Error: {e}\")"
   ]
  },
  {
   "cell_type": "markdown",
   "metadata": {},
   "source": [
    "# Abstraction"
   ]
  },
  {
   "cell_type": "code",
   "execution_count": 14,
   "metadata": {},
   "outputs": [
    {
     "name": "stdout",
     "output_type": "stream",
     "text": [
      "Driving a car\n"
     ]
    }
   ],
   "source": [
    "from abc import ABC, abstractmethod\n",
    "\n",
    "# Abstract class\n",
    "class Vehicle(ABC):\n",
    "    @abstractmethod\n",
    "    def drive(self):\n",
    "        pass\n",
    "\n",
    "# Concrete class\n",
    "class Car(Vehicle):\n",
    "    def drive(self):\n",
    "        return \"Driving a car\"\n",
    "\n",
    "# Using the class\n",
    "my_car = Car()\n",
    "print(my_car.drive())\n",
    "\n",
    "# Explanation: Vehicle class is abstract and doesn't provide a concrete implementation of drive. \n",
    "# Car, a concrete class, implements the drive method. Users of Car need not know the internal details of how drive works."
   ]
  }
 ],
 "metadata": {
  "kernelspec": {
   "display_name": "Python 3",
   "language": "python",
   "name": "python3"
  },
  "language_info": {
   "codemirror_mode": {
    "name": "ipython",
    "version": 3
   },
   "file_extension": ".py",
   "mimetype": "text/x-python",
   "name": "python",
   "nbconvert_exporter": "python",
   "pygments_lexer": "ipython3",
   "version": "3.11.6"
  }
 },
 "nbformat": 4,
 "nbformat_minor": 2
}
